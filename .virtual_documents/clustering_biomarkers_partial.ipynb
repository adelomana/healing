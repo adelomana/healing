import pandas, seaborn, os, numpy

import sklearn, sklearn.cluster
import scipy, scipy.stats


%matplotlib inline
import matplotlib, matplotlib.pyplot
matplotlib.rcParams.update({'font.size':20, 'font.family':'sans-serif', 'xtick.labelsize':20, 'ytick.labelsize':20, 'figure.figsize':(9, 6), 'axes.labelsize':20})





home_dir = '/Users/adrian/'


partial_wound_metabolic_file = '/Users/adrian/gd15/hi/research/kerecis_metabolomics_new/data/clusters/df_logFC_comb_partial.csv'

annotation_file = '/home/adrian/gd15/hi/research/kerecis/data/clusters/Table 1- Adrian.xlsx'
annotation_file = '/home/adrian/gd15/hi/research/kerecis/data/clusters/Table 1 Updated.xlsx'
annotation_partial_file = '/Users/adrian/gd15/hi/research/kerecis_metabolomics_new/data/clusters/new_annotation/Table 1.xlsx'
annotation_full_file = '/Users/adrian/gd15/hi/research/kerecis_metabolomics_new/data/clusters/new_annotation/Table 2.xlsx'


days = [7, 14, 21, 28, 60]








profiles = pandas.read_csv(partial_wound_metabolic_file, index_col=0)

print(profiles.shape)
profiles.head()


zscore_profiles = pandas.DataFrame(scipy.stats.zscore(profiles, axis=1), index=profiles.index)

print(zscore_profiles.shape)
zscore_profiles.head()


print(zscore_profiles.iloc[2, :])
print(numpy.mean(zscore_profiles.iloc[2, :]))
print(numpy.std(zscore_profiles.iloc[2, :]))





# annotation_partial = pandas.read_excel(annotation_file, sheet_name='DPT wounds')
# annotation_full = pandas.read_excel(annotation_file, sheet_name='FT wounds')

# annotation_partial.drop(columns=['Identification Method', 'Common Fragments '], inplace=True)
# annotation_full.drop(columns=['Identification Method', 'Common Fragments ', 'Unnamed: 6', 'Unnamed: 7'], inplace=True)

# print(annotation_partial.shape)
# print(annotation_full.shape)

# annotation_partial.head()


annotation_partial = pandas.read_excel(annotation_partial_file, sheet_name='DPT wounds', skiprows=1, usecols=['mode', 'm/z', 'Retention time', 'Metabolite'])
print(annotation_partial.shape)
annotation_partial.head()


annotation_full = pandas.read_excel(annotation_full_file, sheet_name='FT wounds', skiprows=1, usecols=['Ion mode', 'm/z', 'Retention time', 'Metabolite'])
annotation_full.rename(columns={'Ion mode':'mode'}, inplace=True)
print(annotation_full.shape)
annotation_full.head()


# join the two annotations
shared_annotation = pandas.concat([annotation_full, annotation_partial])
print(shared_annotation.shape)
shared_annotation.head()


# drop duplicates and replace typos
shared_annotation.drop_duplicates(inplace=True)
shared_annotation.shape

shared_annotation.replace({'pos /neg':'pos/neg'}, inplace=True)

shared_annotation


matching_threshold = 1e-3
modes = ['pos', 'neg', 'pos/neg']
formatted_annotation = {}

for mode in modes:
    
    # build variables that can be compared to annotation
    print('adapting observed features')
    observed_features = [element for element in zscore_profiles.index.to_list() if mode in element]
    observed_features_float = [float(element.split('_')[0]) for element in zscore_profiles.index.to_list() if mode in element]
    
    print(len(observed_features), observed_features[:4])
    print(len(observed_features_float), observed_features_float[:4])
    print()
    
    # iterate annotation to find matches in measured features. should have a match to every single annotation
    annotated = shared_annotation[shared_annotation['mode'] == mode]
    print('annotation shape found:', annotated.shape)
    for element in annotated['m/z']:
        name = annotated[annotated['m/z'] == element]['Metabolite'].values[0]
        
        print('\t working with {} {} {}'.format(mode, element, name))
        for i in range(len(observed_features_float)):
            diff = numpy.abs(element - observed_features_float[i])
            if diff < matching_threshold:
                print('\t\t MATCH:', diff, element, observed_features[i])
                formatted_annotation[observed_features[i]] = name
    
    # pos-neg boundary
    print()
    
for key in formatted_annotation:
    print(key, formatted_annotation[key])
print(len(formatted_annotation))





print(zscore_profiles.max())
print(zscore_profiles.min())


linkage_method = 'complete'
distance_metric = 'cosine'

seaborn.clustermap(zscore_profiles, cmap='bwr', vmin=-2, vmax=2, col_cluster=False, method=linkage_method, metric=distance_metric,  cbar_kws={'label':'z-score'})


x = zscore_profiles.to_numpy()
x


seaborn.clustermap(x, cmap='bwr', vmin=-2, vmax=2, col_cluster=False, method=linkage_method, metric=distance_metric,  cbar_kws={'label':'z-score'})





number_elements = zscore_profiles.shape[0]
print('number of elements {}'.format(number_elements))
fine = int(number_elements/5)
coarse = int(number_elements/20)
print(coarse, fine)
k_range = range(coarse, fine+1)

k_range = range(2, 15)


p_ss = []; p_khi = []; p_dbi = []; all_labels = []

for k in k_range:

    partition = sklearn.cluster.AgglomerativeClustering(n_clusters=k, metric='cosine', linkage='complete').fit(x)
    labels = partition.labels_

    ss = sklearn.metrics.silhouette_score(x, labels, metric='cosine')
    khi = sklearn.metrics.calinski_harabasz_score(x, labels)
    dbi = sklearn.metrics.davies_bouldin_score(x, labels)

    print(k, ss, khi, dbi)
    
    p_ss.append(ss)
    p_khi.append(khi)
    p_dbi.append(dbi)
    all_labels.append(labels)
    
    for clusterID in range(k):
        indices = numpy.where(labels == clusterID)[0]
        print('\t {} n = {}'.format(clusterID, len(indices)))        
        
    # 
    # plot trajectories
    #
    if k == 6:
        the_colors = ['plum', 'thistle', 'turquoise', 'magenta', 'tab:orange', 'gold']
        for clusterID in range(k):
            indices = numpy.where(labels == clusterID)[0]
            print('\nCluster c{} with {} gene indices: {}\n'.format(clusterID, len(indices), indices))
            cluster = zscore_profiles.iloc[indices, :]
            means = cluster.mean()
            stds = cluster.std()
            top = means + stds
            bottom = means - stds
            for element in cluster.index:
                if element in formatted_annotation:
                    print(element, formatted_annotation[element])
        
            for metabolite in cluster.index:
                matplotlib.pyplot.plot(days, cluster.loc[metabolite, :], '.', alpha=1/3, lw=3, color=the_colors[clusterID])
            matplotlib.pyplot.plot(days, means, 'o-', color=the_colors[clusterID], lw=4, ms=20)
            matplotlib.pyplot.fill_between(days, top, bottom, color=the_colors[clusterID], alpha=0.2, lw=0)
            
            matplotlib.pyplot.xlabel('Time (day)')
            matplotlib.pyplot.ylabel('z-score')
            matplotlib.pyplot.grid(alpha=0.5, ls=':')
            matplotlib.pyplot.ylim([-2, 2])
            matplotlib.pyplot.title('k = {} | c{} | n = {}'.format(k, clusterID, len(indices)))
            matplotlib.pyplot.tight_layout()
            
            matplotlib.pyplot.show()
            #matplotlib.pyplot.savefig('{}.partial.svg'.format(the_colors[clusterID]))
            #matplotlib.pyplot.clf()





best_partition_index = 4 # which is cluster = 6

matplotlib.pyplot.plot(k_range, p_ss, 'ok')
matplotlib.pyplot.plot(k_range, p_ss, ':', color='black')

a = k_range[best_partition_index]
b = p_ss[best_partition_index]
c= numpy.min(p_ss)
matplotlib.pyplot.plot([a, a], [b, c], '--', color='black')

matplotlib.pyplot.grid(alpha=0.5, ls=':')
matplotlib.pyplot.xlabel('number of clusters (k)')
matplotlib.pyplot.ylabel('Silhouette score [max]')
matplotlib.pyplot.tight_layout()
matplotlib.pyplot.show()

matplotlib.pyplot.plot(k_range, p_khi, 'ob')
matplotlib.pyplot.plot(k_range, p_khi, ':', color='blue')
matplotlib.pyplot.grid(alpha=0.5, ls=':')
matplotlib.pyplot.xlabel('number of clusters (k)')
matplotlib.pyplot.ylabel('Calinski Harabasz [max]')
matplotlib.pyplot.tight_layout()
matplotlib.pyplot.show()

matplotlib.pyplot.plot(k_range, p_dbi, 'or')
matplotlib.pyplot.plot(k_range, p_dbi, ':', color='red')

a = k_range[best_partition_index]
b = p_dbi[best_partition_index]
c= numpy.min(p_dbi)
matplotlib.pyplot.plot([a, a], [b, c], '--', color='red')

matplotlib.pyplot.grid(alpha=0.5, ls=':')
matplotlib.pyplot.xlabel('number of clusters (k)')
matplotlib.pyplot.ylabel('Davies–Bouldin index [min]')
matplotlib.pyplot.tight_layout()
matplotlib.pyplot.show()





groupings = all_labels[best_partition_index]
groupings


color_options = ['plum', 'thistle', 'turquoise', 'magenta', 'tab:orange', 'gold']
print(len(color_options))

k_colors = []
for i in range(len(zscore_profiles.index)):
  k_colors.append(color_options[groupings[i]])

# generate the figure with metabolite names
linkage_method = 'complete'
distance_metric = 'cosine'

seaborn.set(font_scale=0.9)
seaborn.clustermap(zscore_profiles, cmap='bwr', col_cluster=False, method=linkage_method, metric=distance_metric, cbar_kws={'label':'log2FC'}, row_colors=k_colors,vmin=-2, vmax=2)

matplotlib.pyplot.title('{} {}'.format(linkage_method, distance_metric))
matplotlib.pyplot.tight_layout()

matplotlib.pyplot.show()

#matplotlib.pyplot.savefig('heatmap.partial.svg')
#matplotlib.pyplot.clf()
